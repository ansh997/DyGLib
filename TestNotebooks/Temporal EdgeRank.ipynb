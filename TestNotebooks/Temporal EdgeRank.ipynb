{
 "cells": [
  {
   "cell_type": "code",
   "execution_count": 7,
   "metadata": {},
   "outputs": [],
   "source": [
    "# Preliminaries\n",
    "\n",
    "# scratch_location = r'/scratch/hmnshpl'\n",
    "import os\n",
    "import sys\n",
    "import heapq\n",
    "import getpass\n",
    "import numpy as np\n",
    "import pandas as pd\n",
    "import networkx as nx\n",
    "from copy import deepcopy\n",
    "from collections import defaultdict\n",
    "\n",
    "dataset_name = 'wikipedia'\n",
    "scratch_location = rf'/scratch/{getpass.getuser()}'\n",
    "\n",
    "\n",
    "## Load Data\n",
    "# Load data and train val test split\n",
    "graph_df = pd.read_csv('{}/processed_data/{}/ml_{}.csv'.format(scratch_location,\n",
    "                                                            dataset_name,\n",
    "                                                            dataset_name)\n",
    "                    )\n",
    "edge_raw_features = np.load('{}/processed_data/{}/ml_{}.npy'.format(scratch_location,\n",
    "                                                                    dataset_name,\n",
    "                                                                    dataset_name)\n",
    "                            )\n",
    "node_raw_features = np.load('{}/processed_data/{}/ml_{}_node.npy'.format(scratch_location,\n",
    "                                                                        dataset_name,\n",
    "                                                                        dataset_name)\n",
    "                            )\n",
    "\n",
    "# Set the working directory to the project root\n",
    "project_root = os.path.abspath(os.path.join(os.path.dirname('__file__'), '..')) # this might cause issue\n",
    "sys.path.append(project_root)"
   ]
  },
  {
   "cell_type": "markdown",
   "metadata": {},
   "source": [
    "### Temperal EdgeRank Implementation"
   ]
  },
  {
   "cell_type": "code",
   "execution_count": 71,
   "metadata": {},
   "outputs": [],
   "source": [
    "def temporal_pagerank_heap_np(E, beta, alpha, check_evolution=False):\n",
    "    # print('\\t inside tpr heap method')\n",
    "    # Convert edges to a NumPy array\n",
    "    E = np.array(E, dtype=[('u', int), ('v', int), ('t', float)])\n",
    "    \n",
    "    # Get the maximum node index to size the r and s arrays appropriately\n",
    "    max_node = max(E['u'].max(), E['v'].max())\n",
    "    \n",
    "    # Initialize r and s arrays\n",
    "    r = np.zeros(max_node + 1)\n",
    "    s = np.zeros(max_node + 1)\n",
    "    \n",
    "    ts_tpr = [] if check_evolution else None\n",
    "    \n",
    "    # Use a heap to efficiently process edges in time order\n",
    "    heap = [(t, u, v) for u, v, t in E]\n",
    "    heapq.heapify(heap)\n",
    "    # print('\\t heapify successful')\n",
    "    while heap:\n",
    "        t, u, v = heapq.heappop(heap)\n",
    "        \n",
    "        # Update r and s values\n",
    "        delta = 1 - alpha\n",
    "        r[u] += delta\n",
    "        s[u] += delta\n",
    "        r[v] += s[u] * alpha\n",
    "        \n",
    "        if beta < 1:\n",
    "            s_v_increment = s[u] * (1 - beta) * alpha\n",
    "            s[v] += s_v_increment\n",
    "            s[u] *= beta\n",
    "        else:\n",
    "            s[v] += s[u] * alpha\n",
    "            s[u] = 0\n",
    "        \n",
    "        # Store evolution if required\n",
    "        if check_evolution:\n",
    "            # ts_tpr.append((t, r.copy()))  # Store r values at current timestamp\n",
    "            # Normalize r before appending\n",
    "            total_r = r.sum()\n",
    "            if total_r > 0:\n",
    "                ts_tpr.append((t, r.copy() / total_r))\n",
    "    # print('\\t out of loop.')\n",
    "    \n",
    "    # Normalize r\n",
    "    total_r = r.sum()\n",
    "    if total_r > 0:\n",
    "        r /= total_r\n",
    "    \n",
    "    if check_evolution:\n",
    "        ts_tpr = np.array(ts_tpr, dtype=[('t', float), ('r', float, max_node + 1)])\n",
    "    \n",
    "    return r, ts_tpr"
   ]
  },
  {
   "cell_type": "code",
   "execution_count": 6,
   "metadata": {},
   "outputs": [
    {
     "name": "stdout",
     "output_type": "stream",
     "text": [
      "\t inside tpr heap method\n",
      "\t heapify successful\n",
      "\t out of loop.\n",
      "[0.00000000e+00 3.40154070e-06 9.69439101e-04 ... 2.47259416e-04\n",
      " 2.89130960e-04 5.06829565e-04]\n"
     ]
    }
   ],
   "source": [
    "# Extract nodes, edges, and timestamps\n",
    "edges = graph_df[['u', 'i', 'ts']].values\n",
    "nodes = np.unique(edges[:, :2])  # Get unique nodes from edges\n",
    "\n",
    "# Convert E to a more readable format if needed\n",
    "edges_new = [(int(u), int(v), float(t)) for u, v, t in edges]\n",
    "\n",
    "beta = 0.85\n",
    "alpha = 0.15\n",
    "\n",
    "r2, ts_tpr= temporal_pagerank_heap_np(edges_new, beta, alpha, True)\n",
    "print(r2)"
   ]
  },
  {
   "cell_type": "code",
   "execution_count": 8,
   "metadata": {},
   "outputs": [],
   "source": [
    "def compute_temporal_outgoing_degree(E):\n",
    "    E = np.array(E, dtype=[('u', int), ('v', int), ('t', float)])\n",
    "    outgoing_degree = defaultdict(int)\n",
    "    temporal_outgoing_degree = defaultdict(list)\n",
    "    heap = [(t, u, v) for u, v, t in E]\n",
    "    heapq.heapify(heap)\n",
    "    while heap:\n",
    "        t, u, v = heapq.heappop(heap)\n",
    "        outgoing_degree[u] += 1\n",
    "        for node in outgoing_degree:\n",
    "            temporal_outgoing_degree[node].append((t, outgoing_degree[node]))\n",
    "    return temporal_outgoing_degree"
   ]
  },
  {
   "cell_type": "code",
   "execution_count": 52,
   "metadata": {},
   "outputs": [],
   "source": [
    "from tqdm import tqdm\n",
    "\n",
    "\n",
    "def compute_temporal_edgerank(E, beta, alpha):\n",
    "    _, ts_tpr = temporal_pagerank_heap_np(E, beta, alpha, check_evolution=True)\n",
    "    print(len(ts_tpr))\n",
    "    temporal_outgoing_degree = compute_temporal_outgoing_degree(E)\n",
    "    temporal_edgerank = defaultdict(lambda: defaultdict(list))\n",
    "    \n",
    "    for tpr in tqdm(ts_tpr, desc='Calculating Temporal EdgeRank'):\n",
    "        t, r = tpr['t'], tpr['r']\n",
    "        for u, v, t_ev in E:\n",
    "            if t_ev <= t:\n",
    "                if u in r and u in temporal_outgoing_degree:\n",
    "                    current_degree = [d for time, d in temporal_outgoing_degree[u] if time <= t][-1]\n",
    "                    if current_degree > 0:\n",
    "                        edge_rank = r[u] / current_degree\n",
    "                    else:\n",
    "                        edge_rank = 0\n",
    "                    print('Add rank...')\n",
    "                    temporal_edgerank[u][v].append((t, edge_rank))\n",
    "    \n",
    "    return temporal_edgerank"
   ]
  },
  {
   "cell_type": "code",
   "execution_count": 20,
   "metadata": {},
   "outputs": [
    {
     "name": "stdout",
     "output_type": "stream",
     "text": [
      "\t inside tpr heap method\n",
      "\t heapify successful\n",
      "\t out of loop.\n",
      "5\n"
     ]
    },
    {
     "name": "stderr",
     "output_type": "stream",
     "text": [
      "Calculating Temporal EdgeRank: 100%|██████████| 5/5 [00:00<00:00, 6180.82it/s]\n"
     ]
    }
   ],
   "source": [
    "# Example usage:\n",
    "E = [\n",
    "    (1, 2, 1.0),\n",
    "    (2, 3, 2.0),\n",
    "    (1, 3, 3.0),\n",
    "    (1, 2, 4.0),\n",
    "    (2, 1, 5.0)\n",
    "]\n",
    "\n",
    "temporal_edgerank = compute_temporal_edgerank(E, beta, alpha)\n",
    "\n",
    "# Print Temporal EdgeRank\n",
    "for u in temporal_edgerank:\n",
    "    for v in temporal_edgerank[u]:\n",
    "        print(f\"Edge ({u}, {v}) Temporal EdgeRank over time: {temporal_edgerank[u][v]}\")"
   ]
  },
  {
   "cell_type": "code",
   "execution_count": 22,
   "metadata": {},
   "outputs": [
    {
     "name": "stdout",
     "output_type": "stream",
     "text": [
      "\t inside tpr heap method\n",
      "\t heapify successful\n",
      "\t out of loop.\n"
     ]
    },
    {
     "data": {
      "text/plain": [
       "array([(1., [0.        , 0.86956522, 0.13043478, 0.        ]),\n",
       "       (2., [0.        , 0.43414555, 0.49926738, 0.06658707]),\n",
       "       (3., [0.        , 0.55852271, 0.32115056, 0.12032674]),\n",
       "       (4., [0.        , 0.60401671, 0.30923139, 0.0867519 ]),\n",
       "       (5., [0.        , 0.52576017, 0.40536376, 0.06887607])],\n",
       "      dtype=[('t', '<f8'), ('r', '<f8', (4,))])"
      ]
     },
     "execution_count": 22,
     "metadata": {},
     "output_type": "execute_result"
    }
   ],
   "source": [
    "_, ts_tpr = temporal_pagerank_heap_np(E, beta, alpha, check_evolution=True)\n",
    "ts_tpr"
   ]
  },
  {
   "cell_type": "code",
   "execution_count": 23,
   "metadata": {},
   "outputs": [
    {
     "data": {
      "text/plain": [
       "defaultdict(list,\n",
       "            {1: [(1.0, 1), (2.0, 1), (3.0, 2), (4.0, 3), (5.0, 3)],\n",
       "             2: [(2.0, 1), (3.0, 1), (4.0, 1), (5.0, 2)]})"
      ]
     },
     "execution_count": 23,
     "metadata": {},
     "output_type": "execute_result"
    }
   ],
   "source": [
    "temporal_outgoing_degree = compute_temporal_outgoing_degree(E)\n",
    "temporal_outgoing_degree"
   ]
  },
  {
   "cell_type": "code",
   "execution_count": 38,
   "metadata": {},
   "outputs": [
    {
     "name": "stderr",
     "output_type": "stream",
     "text": [
      "Calculating Temporal EdgeRank: 100%|██████████| 5/5 [00:00<00:00, 11580.08it/s]"
     ]
    },
    {
     "name": "stdout",
     "output_type": "stream",
     "text": [
      "Add rank...\n",
      "Add rank...\n",
      "Add rank...\n",
      "Add rank...\n",
      "Add rank...\n",
      "Add rank...\n",
      "Add rank...\n",
      "Add rank...\n",
      "Add rank...\n",
      "Add rank...\n",
      "Add rank...\n",
      "Add rank...\n",
      "Add rank...\n",
      "Add rank...\n",
      "Add rank...\n"
     ]
    },
    {
     "name": "stderr",
     "output_type": "stream",
     "text": [
      "\n"
     ]
    },
    {
     "data": {
      "text/plain": [
       "2"
      ]
     },
     "execution_count": 38,
     "metadata": {},
     "output_type": "execute_result"
    }
   ],
   "source": [
    "temporal_edgerank = defaultdict(lambda: defaultdict(list))\n",
    "\n",
    "for tpr in tqdm(ts_tpr, desc='Calculating Temporal EdgeRank'):\n",
    "    t, r = tpr['t'], tpr['r']\n",
    "    for u, v, t_ev in E:\n",
    "        if t_ev <= t:\n",
    "            if u in temporal_outgoing_degree:\n",
    "                current_degree = [d for time, d in temporal_outgoing_degree[u] if time <= t][-1]\n",
    "                if current_degree > 0:\n",
    "                    edge_rank = r[u] / current_degree\n",
    "                else:\n",
    "                    edge_rank = 0\n",
    "                print('Add rank...')\n",
    "                temporal_edgerank[u][v].append((t, edge_rank))\n",
    "                \n",
    "len(temporal_edgerank)"
   ]
  },
  {
   "cell_type": "code",
   "execution_count": 36,
   "metadata": {},
   "outputs": [
    {
     "name": "stdout",
     "output_type": "stream",
     "text": [
      "Add rank...\n",
      "Add rank...\n",
      "Add rank...\n",
      "Add rank...\n",
      "Add rank...\n"
     ]
    },
    {
     "data": {
      "text/plain": [
       "2"
      ]
     },
     "execution_count": 36,
     "metadata": {},
     "output_type": "execute_result"
    }
   ],
   "source": [
    "for u, v, t_ev in E:\n",
    "    r = dict(ts_tpr)[t_ev]\n",
    "    if u in temporal_outgoing_degree:\n",
    "        current_degree = [d for time, d in temporal_outgoing_degree[u] if time <= t][-1]\n",
    "        if current_degree > 0:\n",
    "            edge_rank = r[u] / current_degree\n",
    "        else:\n",
    "            edge_rank = 0\n",
    "        print('Add rank...')\n",
    "        temporal_edgerank[u][v].append((t, edge_rank))\n",
    "len(temporal_edgerank)        "
   ]
  },
  {
   "cell_type": "code",
   "execution_count": 37,
   "metadata": {},
   "outputs": [
    {
     "data": {
      "text/plain": [
       "defaultdict(<function __main__.<lambda>()>,\n",
       "            {1: defaultdict(list,\n",
       "                         {2: [(5.0, 0.2898550724637681),\n",
       "                           (5.0, 0.2013389037096693)],\n",
       "                          3: [(5.0, 0.18617423581294143)]}),\n",
       "             2: defaultdict(list,\n",
       "                         {3: [(5.0, 0.24963368969447008)],\n",
       "                          1: [(5.0, 0.20268188081232408)]})})"
      ]
     },
     "execution_count": 37,
     "metadata": {},
     "output_type": "execute_result"
    }
   ],
   "source": [
    "temporal_edgerank"
   ]
  },
  {
   "cell_type": "code",
   "execution_count": 39,
   "metadata": {},
   "outputs": [
    {
     "data": {
      "text/plain": [
       "defaultdict(<function __main__.<lambda>()>,\n",
       "            {1: defaultdict(list,\n",
       "                         {2: [(1.0, 0.8695652173913043),\n",
       "                           (2.0, 0.43414554729473054),\n",
       "                           (3.0, 0.27926135371941213),\n",
       "                           (4.0, 0.2013389037096693),\n",
       "                           (4.0, 0.2013389037096693),\n",
       "                           (5.0, 0.17525338856740116),\n",
       "                           (5.0, 0.17525338856740116)],\n",
       "                          3: [(3.0, 0.27926135371941213),\n",
       "                           (4.0, 0.2013389037096693),\n",
       "                           (5.0, 0.17525338856740116)]}),\n",
       "             2: defaultdict(list,\n",
       "                         {3: [(2.0, 0.49926737938894017),\n",
       "                           (3.0, 0.321150556777324),\n",
       "                           (4.0, 0.3092313887350884),\n",
       "                           (5.0, 0.20268188081232408)],\n",
       "                          1: [(5.0, 0.20268188081232408)]})})"
      ]
     },
     "execution_count": 39,
     "metadata": {},
     "output_type": "execute_result"
    }
   ],
   "source": [
    "temporal_edgerank"
   ]
  },
  {
   "cell_type": "code",
   "execution_count": 94,
   "metadata": {},
   "outputs": [],
   "source": [
    "def compute_temporal_edgerank_with_time_decay_smoothening(E, beta, alpha, decay_factor=0.9):\n",
    "    _, ts_tpr = temporal_pagerank_heap_np(E, beta, alpha, check_evolution=True)\n",
    "    temporal_outgoing_degree = compute_temporal_outgoing_degree(E)\n",
    "    assert len(ts_tpr) > 0, 'Check1'\n",
    "    assert len(temporal_outgoing_degree) > 0, 'Check2'\n",
    "    temporal_edgerank = defaultdict(lambda: defaultdict(list))\n",
    "    \n",
    "    def smooth_degree(degree):\n",
    "        return degree ** 0.5  # Smoothing function (e.g., square root)\n",
    "    \n",
    "    for tpr in ts_tpr:\n",
    "        t, r = tpr['t'], tpr['r']\n",
    "        print(f'for {t=}')\n",
    "        for u, v, t_ev in E:\n",
    "            print(f'\\tProcessing {t_ev=} for {(u, v)}', end=' ')\n",
    "            if t_ev <= t:\n",
    "                print('started: ')\n",
    "                current_degrees = [d for time, d in temporal_outgoing_degree[u] if time <= t]\n",
    "                if current_degrees:\n",
    "                    current_degree = smooth_degree(current_degrees[-1])\n",
    "                    if current_degree > 0:\n",
    "                        time_diff = t - t_ev\n",
    "                        edge_rank = (r[u] / current_degree) * (decay_factor ** time_diff)\n",
    "                    else:\n",
    "                        edge_rank = 0\n",
    "                    temporal_edgerank[u][v].append((t, edge_rank))\n",
    "                    print(f'\\t\\tappended {(u, v)} for time {t}')\n",
    "            else:\n",
    "                print('Unprocessed.', end='\\n')\n",
    "    assert len(temporal_edgerank) != 0, 'Check2'\n",
    "    \n",
    "    return temporal_edgerank"
   ]
  },
  {
   "cell_type": "code",
   "execution_count": 136,
   "metadata": {},
   "outputs": [],
   "source": [
    "def compute_temporal_edgerank_with_time_decay_smoothening(E, beta, alpha, decay_factor=0.9):\n",
    "    _, ts_tpr = temporal_pagerank_heap_np(E, beta, alpha, check_evolution=True)\n",
    "    temporal_outgoing_degree = compute_temporal_outgoing_degree(E)\n",
    "    assert len(ts_tpr) > 0, 'Check1'\n",
    "    assert len(temporal_outgoing_degree) > 0, 'Check2'\n",
    "    temporal_edgerank = defaultdict(lambda: defaultdict(list))\n",
    "\n",
    "    def smooth_degree(degree):\n",
    "        return degree ** 0.5  # Smoothing function (e.g., square root)\n",
    "    \n",
    "    for tpr in ts_tpr:\n",
    "        t, r = tpr['t'], tpr['r']\n",
    "        print(f'Processing timestamp {t}')\n",
    "        \n",
    "        processed_edges = set()  # Track processed (u, v, t_ev) tuples\n",
    "        \n",
    "        for u, v, t_ev in E:\n",
    "            print(f'\\t{(u, v, t_ev)}', end = ' ')\n",
    "            if (u, v, t_ev) in processed_edges:\n",
    "                print(f' already processed. Skipped...')\n",
    "                continue  # Skip if already processed\n",
    "            # print('')\n",
    "            if t_ev <= t: # changed here from t_ev <= t to t_ev == t\n",
    "                print(f'\\tProcessing edge ({u}, {v}) at time {t_ev} for timestamp {t}')\n",
    "                \n",
    "                # Retrieve degrees up to current timestamp t\n",
    "                current_degrees = [d for time, d in temporal_outgoing_degree[u] if time <= t]  # changed here from time <= t to time == t\n",
    "                if current_degrees:\n",
    "                    current_degree = smooth_degree(current_degrees[-1])\n",
    "                    if current_degree > 0:\n",
    "                        time_diff = t - t_ev\n",
    "                        edge_rank = (r[u] / current_degree) * (decay_factor ** time_diff)\n",
    "                    else:\n",
    "                        edge_rank = 0\n",
    "                    temporal_edgerank[u][v].append((t, edge_rank))\n",
    "                    print(f'\\t\\t\\t\\t\\tAppended edge rank: ({u}, {v}, {t}, {edge_rank})')\n",
    "                else:\n",
    "                    print(f'\\t\\tNo valid degree for user {u} at time {t}')\n",
    "                \n",
    "                processed_edges.add((u, v, t_ev))  # Mark this edge as processed\n",
    "            else:\n",
    "                print(f'\\tSkipping edge ({u}, {v}) at time {t_ev} as it is not != {t}')\n",
    "    \n",
    "    assert len(temporal_edgerank) != 0, 'Check2'\n",
    "    return temporal_edgerank"
   ]
  },
  {
   "cell_type": "code",
   "execution_count": 140,
   "metadata": {},
   "outputs": [],
   "source": [
    "def compute_temporal_edgerank_with_time_decay_smoothening(E, beta, alpha, decay_factor=0.9):\n",
    "    _, ts_tpr = temporal_pagerank_heap_np(E, beta, alpha, check_evolution=True)\n",
    "    temporal_outgoing_degree = compute_temporal_outgoing_degree(E)\n",
    "    assert len(ts_tpr) > 0, 'Check1'\n",
    "    assert len(temporal_outgoing_degree) > 0, 'Check2'\n",
    "    temporal_edgerank = defaultdict(lambda: defaultdict(list))\n",
    "    \n",
    "    def smooth_degree(degree):\n",
    "        return degree ** 0.5  # Smoothing function (e.g., square root)\n",
    "    \n",
    "    # Create a mapping from edges to their timestamps\n",
    "    edge_to_time = defaultdict(list)\n",
    "    for u, v, t_ev in E:\n",
    "        edge_to_time[(u, v)].append(t_ev)\n",
    "    \n",
    "    for tpr in ts_tpr:\n",
    "        t, r = tpr['t'], tpr['r']\n",
    "        print(f'Processing timestamp {t}')\n",
    "        \n",
    "        for (u, v), times in edge_to_time.items():\n",
    "            # Process each edge only if it has not been processed for this timestamp\n",
    "            for t_ev in times:\n",
    "                if t_ev <= t:\n",
    "                    print(f'\\tProcessing edge ({u}, {v}) at time {t_ev} for timestamp {t}')\n",
    "                    \n",
    "                    # Retrieve degrees up to current timestamp t\n",
    "                    current_degrees = [d for time, d in temporal_outgoing_degree[u] if time <= t]\n",
    "                    if current_degrees:\n",
    "                        current_degree = smooth_degree(current_degrees[-1])\n",
    "                        if current_degree > 0:\n",
    "                            time_diff = t - t_ev\n",
    "                            edge_rank = (r[u] / current_degree) * (decay_factor ** time_diff)\n",
    "                        else:\n",
    "                            edge_rank = 0\n",
    "                        temporal_edgerank[u][v].append((t, edge_rank))\n",
    "                        print(f'\\t\\t\\t\\t\\tAppended edge rank: ({u}, {v}, {t}, {edge_rank})')\n",
    "                    \n",
    "                    # Stop processing this edge after the first valid timestamp\n",
    "                    break\n",
    "                else:\n",
    "                    print(f'\\tSkipping edge ({u}, {v}) at time {t_ev} as it is not <= {t}')\n",
    "    \n",
    "    assert len(temporal_edgerank) != 0, 'Check2'\n",
    "    return temporal_edgerank\n"
   ]
  },
  {
   "cell_type": "code",
   "execution_count": 141,
   "metadata": {},
   "outputs": [
    {
     "name": "stdout",
     "output_type": "stream",
     "text": [
      "Processing timestamp 1.0\n",
      "\tProcessing edge (1, 2) at time 1.0 for timestamp 1.0\n",
      "\t\t\t\t\tAppended edge rank: (1, 2, 1.0, 0.8695652173913043)\n",
      "\tSkipping edge (2, 3) at time 2.0 as it is not <= 1.0\n",
      "\tSkipping edge (1, 3) at time 3.0 as it is not <= 1.0\n",
      "\tSkipping edge (2, 1) at time 5.0 as it is not <= 1.0\n",
      "Processing timestamp 2.0\n",
      "\tProcessing edge (1, 2) at time 1.0 for timestamp 2.0\n",
      "\t\t\t\t\tAppended edge rank: (1, 2, 2.0, 0.3907309925652575)\n",
      "\tProcessing edge (2, 3) at time 2.0 for timestamp 2.0\n",
      "\t\t\t\t\tAppended edge rank: (2, 3, 2.0, 0.49926737938894017)\n",
      "\tSkipping edge (1, 3) at time 3.0 as it is not <= 2.0\n",
      "\tSkipping edge (2, 1) at time 5.0 as it is not <= 2.0\n",
      "Processing timestamp 3.0\n",
      "\tProcessing edge (1, 2) at time 1.0 for timestamp 3.0\n",
      "\t\t\t\t\tAppended edge rank: (1, 2, 3.0, 0.31989750704009684)\n",
      "\tProcessing edge (2, 3) at time 2.0 for timestamp 3.0\n",
      "\t\t\t\t\tAppended edge rank: (2, 3, 3.0, 0.28903550109959164)\n",
      "\tProcessing edge (1, 3) at time 3.0 for timestamp 3.0\n",
      "\t\t\t\t\tAppended edge rank: (1, 3, 3.0, 0.39493519387666276)\n",
      "\tSkipping edge (2, 1) at time 5.0 as it is not <= 3.0\n",
      "Processing timestamp 4.0\n",
      "\tProcessing edge (1, 2) at time 1.0 for timestamp 4.0\n",
      "\t\t\t\t\tAppended edge rank: (1, 2, 4.0, 0.25422359464795125)\n",
      "\tProcessing edge (2, 3) at time 2.0 for timestamp 4.0\n",
      "\t\t\t\t\tAppended edge rank: (2, 3, 4.0, 0.2504774248754216)\n",
      "\tProcessing edge (1, 3) at time 3.0 for timestamp 4.0\n",
      "\t\t\t\t\tAppended edge rank: (1, 3, 4.0, 0.31385628968882867)\n",
      "\tSkipping edge (2, 1) at time 5.0 as it is not <= 4.0\n",
      "Processing timestamp 5.0\n",
      "\tProcessing edge (1, 2) at time 1.0 for timestamp 5.0\n",
      "\t\t\t\t\tAppended edge rank: (1, 2, 5.0, 0.199157693994781)\n",
      "\tProcessing edge (2, 3) at time 2.0 for timestamp 5.0\n",
      "\t\t\t\t\tAppended edge rank: (2, 3, 5.0, 0.20895725376052332)\n",
      "\tProcessing edge (1, 3) at time 3.0 for timestamp 5.0\n",
      "\t\t\t\t\tAppended edge rank: (1, 3, 5.0, 0.24587369628985312)\n",
      "\tProcessing edge (2, 1) at time 5.0 for timestamp 5.0\n",
      "\t\t\t\t\tAppended edge rank: (2, 1, 5.0, 0.28663546469207585)\n"
     ]
    }
   ],
   "source": [
    "temporal_edgerank = compute_temporal_edgerank_with_time_decay_smoothening(E, beta, alpha, decay_factor=0.9)\n",
    "# (temporal_edgerank)"
   ]
  },
  {
   "cell_type": "code",
   "execution_count": 130,
   "metadata": {},
   "outputs": [
    {
     "data": {
      "text/plain": [
       "[(1, 2, 1.0), (2, 3, 2.0), (1, 3, 3.0), (1, 2, 4.0), (2, 1, 5.0)]"
      ]
     },
     "execution_count": 130,
     "metadata": {},
     "output_type": "execute_result"
    }
   ],
   "source": [
    "E"
   ]
  },
  {
   "cell_type": "code",
   "execution_count": 131,
   "metadata": {},
   "outputs": [
    {
     "name": "stdout",
     "output_type": "stream",
     "text": [
      "{1: {2: [(1.0, 0.8695652173913043), (4.0, 0.34872921076536517)], 3: [(3.0, 0.39493519387666276)]}, 2: {3: [(2.0, 0.49926737938894017)], 1: [(5.0, 0.28663546469207585)]}}\n"
     ]
    }
   ],
   "source": [
    "# Function to sort the inner defaultdict\n",
    "def sort_inner_dict(d):\n",
    "    return {k: sorted(v, key=lambda x: x[0]) for k, v in d.items()}\n",
    "\n",
    "# Sort the inner default dicts\n",
    "sorted_data = {k: sort_inner_dict(v) for k, v in temporal_edgerank.items()}\n",
    "\n",
    "# Sort the outer defaultdict\n",
    "sorted_data = dict(sorted(sorted_data.items()))\n",
    "\n",
    "print(sorted_data)\n"
   ]
  },
  {
   "cell_type": "code",
   "execution_count": 132,
   "metadata": {},
   "outputs": [
    {
     "name": "stdout",
     "output_type": "stream",
     "text": [
      "   u  i   ts     value\n",
      "0  1  2  1.0  0.869565\n",
      "1  1  2  4.0  0.348729\n",
      "2  1  3  3.0  0.394935\n",
      "3  2  3  2.0  0.499267\n",
      "4  2  1  5.0  0.286635\n"
     ]
    }
   ],
   "source": [
    "# Flatten the defaultdict into a list of records [u, i, ts, value]\n",
    "records = []\n",
    "for u, inner_dict in temporal_edgerank.items():\n",
    "    for i, values in inner_dict.items():\n",
    "        for ts, value in values:\n",
    "            records.append([u, i, ts, value])\n",
    "\n",
    "# Create a DataFrame from the records\n",
    "df = pd.DataFrame(records, columns=['u', 'i', 'ts', 'value'])\n",
    "\n",
    "print(df)"
   ]
  },
  {
   "cell_type": "code",
   "execution_count": 133,
   "metadata": {},
   "outputs": [
    {
     "data": {
      "text/html": [
       "<div>\n",
       "<style scoped>\n",
       "    .dataframe tbody tr th:only-of-type {\n",
       "        vertical-align: middle;\n",
       "    }\n",
       "\n",
       "    .dataframe tbody tr th {\n",
       "        vertical-align: top;\n",
       "    }\n",
       "\n",
       "    .dataframe thead th {\n",
       "        text-align: right;\n",
       "    }\n",
       "</style>\n",
       "<table border=\"1\" class=\"dataframe\">\n",
       "  <thead>\n",
       "    <tr style=\"text-align: right;\">\n",
       "      <th></th>\n",
       "      <th>u</th>\n",
       "      <th>i</th>\n",
       "      <th>ts</th>\n",
       "      <th>value</th>\n",
       "    </tr>\n",
       "  </thead>\n",
       "  <tbody>\n",
       "    <tr>\n",
       "      <th>0</th>\n",
       "      <td>1</td>\n",
       "      <td>2</td>\n",
       "      <td>1.0</td>\n",
       "      <td>0.869565</td>\n",
       "    </tr>\n",
       "    <tr>\n",
       "      <th>1</th>\n",
       "      <td>2</td>\n",
       "      <td>3</td>\n",
       "      <td>2.0</td>\n",
       "      <td>0.499267</td>\n",
       "    </tr>\n",
       "    <tr>\n",
       "      <th>2</th>\n",
       "      <td>1</td>\n",
       "      <td>3</td>\n",
       "      <td>3.0</td>\n",
       "      <td>0.394935</td>\n",
       "    </tr>\n",
       "    <tr>\n",
       "      <th>3</th>\n",
       "      <td>1</td>\n",
       "      <td>2</td>\n",
       "      <td>4.0</td>\n",
       "      <td>0.348729</td>\n",
       "    </tr>\n",
       "    <tr>\n",
       "      <th>4</th>\n",
       "      <td>2</td>\n",
       "      <td>1</td>\n",
       "      <td>5.0</td>\n",
       "      <td>0.286635</td>\n",
       "    </tr>\n",
       "  </tbody>\n",
       "</table>\n",
       "</div>"
      ],
      "text/plain": [
       "   u  i   ts     value\n",
       "0  1  2  1.0  0.869565\n",
       "1  2  3  2.0  0.499267\n",
       "2  1  3  3.0  0.394935\n",
       "3  1  2  4.0  0.348729\n",
       "4  2  1  5.0  0.286635"
      ]
     },
     "execution_count": 133,
     "metadata": {},
     "output_type": "execute_result"
    }
   ],
   "source": [
    "df2 = pd.DataFrame(E)\n",
    "# Rename the columns in df2 to match those in df1\n",
    "df2.columns = ['u', 'i', 'ts']\n",
    "\n",
    "# Merge the DataFrames on 'u', 'i', and 'ts'\n",
    "merged_df = pd.merge(df2, df, on=['u', 'i', 'ts'])\n",
    "\n",
    "(merged_df)"
   ]
  },
  {
   "cell_type": "code",
   "execution_count": 68,
   "metadata": {},
   "outputs": [
    {
     "data": {
      "text/plain": [
       "(5, 6)"
      ]
     },
     "execution_count": 68,
     "metadata": {},
     "output_type": "execute_result"
    }
   ],
   "source": [
    "len(df2), len(merged_df)"
   ]
  },
  {
   "cell_type": "code",
   "execution_count": 69,
   "metadata": {},
   "outputs": [
    {
     "data": {
      "text/html": [
       "<div>\n",
       "<style scoped>\n",
       "    .dataframe tbody tr th:only-of-type {\n",
       "        vertical-align: middle;\n",
       "    }\n",
       "\n",
       "    .dataframe tbody tr th {\n",
       "        vertical-align: top;\n",
       "    }\n",
       "\n",
       "    .dataframe thead th {\n",
       "        text-align: right;\n",
       "    }\n",
       "</style>\n",
       "<table border=\"1\" class=\"dataframe\">\n",
       "  <thead>\n",
       "    <tr style=\"text-align: right;\">\n",
       "      <th></th>\n",
       "      <th>u</th>\n",
       "      <th>i</th>\n",
       "      <th>ts</th>\n",
       "    </tr>\n",
       "  </thead>\n",
       "  <tbody>\n",
       "    <tr>\n",
       "      <th>0</th>\n",
       "      <td>1</td>\n",
       "      <td>2</td>\n",
       "      <td>1.0</td>\n",
       "    </tr>\n",
       "    <tr>\n",
       "      <th>1</th>\n",
       "      <td>2</td>\n",
       "      <td>3</td>\n",
       "      <td>2.0</td>\n",
       "    </tr>\n",
       "    <tr>\n",
       "      <th>2</th>\n",
       "      <td>1</td>\n",
       "      <td>3</td>\n",
       "      <td>3.0</td>\n",
       "    </tr>\n",
       "    <tr>\n",
       "      <th>3</th>\n",
       "      <td>1</td>\n",
       "      <td>2</td>\n",
       "      <td>4.0</td>\n",
       "    </tr>\n",
       "    <tr>\n",
       "      <th>4</th>\n",
       "      <td>2</td>\n",
       "      <td>1</td>\n",
       "      <td>5.0</td>\n",
       "    </tr>\n",
       "  </tbody>\n",
       "</table>\n",
       "</div>"
      ],
      "text/plain": [
       "   u  i   ts\n",
       "0  1  2  1.0\n",
       "1  2  3  2.0\n",
       "2  1  3  3.0\n",
       "3  1  2  4.0\n",
       "4  2  1  5.0"
      ]
     },
     "execution_count": 69,
     "metadata": {},
     "output_type": "execute_result"
    }
   ],
   "source": [
    "df2"
   ]
  },
  {
   "cell_type": "code",
   "execution_count": null,
   "metadata": {},
   "outputs": [],
   "source": []
  }
 ],
 "metadata": {
  "kernelspec": {
   "display_name": "tg",
   "language": "python",
   "name": "python3"
  },
  "language_info": {
   "codemirror_mode": {
    "name": "ipython",
    "version": 3
   },
   "file_extension": ".py",
   "mimetype": "text/x-python",
   "name": "python",
   "nbconvert_exporter": "python",
   "pygments_lexer": "ipython3",
   "version": "3.11.7"
  }
 },
 "nbformat": 4,
 "nbformat_minor": 2
}
